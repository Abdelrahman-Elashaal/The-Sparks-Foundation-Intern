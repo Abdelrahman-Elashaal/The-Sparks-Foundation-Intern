{
 "cells": [
  {
   "cell_type": "markdown",
   "id": "ba06fb53",
   "metadata": {
    "ExecuteTime": {
     "end_time": "2023-06-15T05:39:46.795859Z",
     "start_time": "2023-06-15T05:39:46.765939Z"
    }
   },
   "source": [
    " <img src='logo_small.png' align='left' width='70'>\n",
    "<h1> The Sparks Foundation: Data Science And Business Analytics Tasks </h1>"
   ]
  },
  {
   "cell_type": "markdown",
   "id": "d02f6e65",
   "metadata": {
    "ExecuteTime": {
     "end_time": "2023-05-21T20:42:25.389921Z",
     "start_time": "2023-05-21T20:42:25.371500Z"
    }
   },
   "source": [
    "<h2>Task 1: Prediction Using supervised ML</h2>"
   ]
  },
  {
   "cell_type": "markdown",
   "id": "eb353a55",
   "metadata": {
    "ExecuteTime": {
     "end_time": "2023-05-21T20:37:40.159659Z",
     "start_time": "2023-05-21T20:37:40.143701Z"
    }
   },
   "source": [
    "<h4>Target : Predict the percentage of an student based on the no. of Study Hours</h4>"
   ]
  },
  {
   "cell_type": "markdown",
   "id": "64853380",
   "metadata": {},
   "source": [
    "<h3>Author : Abdelrahman Ahmed El_Ashaal </h3>"
   ]
  },
  {
   "cell_type": "code",
   "execution_count": 1,
   "id": "0a1a9a3a",
   "metadata": {
    "ExecuteTime": {
     "end_time": "2023-06-15T06:02:23.127335Z",
     "start_time": "2023-06-15T06:02:21.475652Z"
    }
   },
   "outputs": [],
   "source": [
    "# Importing Libraries\n",
    "\n",
    "import pandas as pd\n",
    "import matplotlib.pyplot as plt\n",
    "%matplotlib inline"
   ]
  },
  {
   "cell_type": "code",
   "execution_count": 2,
   "id": "fe9a0b9f",
   "metadata": {
    "ExecuteTime": {
     "end_time": "2023-06-15T06:02:23.461419Z",
     "start_time": "2023-06-15T06:02:23.130413Z"
    }
   },
   "outputs": [],
   "source": [
    "# Importing Dataset\n",
    "datalink='https://raw.githubusercontent.com/AdiPersonalWorks/Random/master/student_scores%20-%20student_scores.csv'\n",
    "data=pd.read_csv(datalink)"
   ]
  },
  {
   "cell_type": "code",
   "execution_count": 3,
   "id": "1a0d419f",
   "metadata": {
    "ExecuteTime": {
     "end_time": "2023-06-15T06:02:23.492009Z",
     "start_time": "2023-06-15T06:02:23.463417Z"
    },
    "scrolled": true
   },
   "outputs": [
    {
     "data": {
      "text/html": [
       "<div>\n",
       "<style scoped>\n",
       "    .dataframe tbody tr th:only-of-type {\n",
       "        vertical-align: middle;\n",
       "    }\n",
       "\n",
       "    .dataframe tbody tr th {\n",
       "        vertical-align: top;\n",
       "    }\n",
       "\n",
       "    .dataframe thead th {\n",
       "        text-align: right;\n",
       "    }\n",
       "</style>\n",
       "<table border=\"1\" class=\"dataframe\">\n",
       "  <thead>\n",
       "    <tr style=\"text-align: right;\">\n",
       "      <th></th>\n",
       "      <th>Hours</th>\n",
       "      <th>Scores</th>\n",
       "    </tr>\n",
       "  </thead>\n",
       "  <tbody>\n",
       "    <tr>\n",
       "      <th>0</th>\n",
       "      <td>2.5</td>\n",
       "      <td>21</td>\n",
       "    </tr>\n",
       "    <tr>\n",
       "      <th>1</th>\n",
       "      <td>5.1</td>\n",
       "      <td>47</td>\n",
       "    </tr>\n",
       "    <tr>\n",
       "      <th>2</th>\n",
       "      <td>3.2</td>\n",
       "      <td>27</td>\n",
       "    </tr>\n",
       "    <tr>\n",
       "      <th>3</th>\n",
       "      <td>8.5</td>\n",
       "      <td>75</td>\n",
       "    </tr>\n",
       "    <tr>\n",
       "      <th>4</th>\n",
       "      <td>3.5</td>\n",
       "      <td>30</td>\n",
       "    </tr>\n",
       "  </tbody>\n",
       "</table>\n",
       "</div>"
      ],
      "text/plain": [
       "   Hours  Scores\n",
       "0    2.5      21\n",
       "1    5.1      47\n",
       "2    3.2      27\n",
       "3    8.5      75\n",
       "4    3.5      30"
      ]
     },
     "execution_count": 3,
     "metadata": {},
     "output_type": "execute_result"
    }
   ],
   "source": [
    "# Read the first 5 rows from data\n",
    "\n",
    "data.head()"
   ]
  },
  {
   "cell_type": "code",
   "execution_count": 4,
   "id": "82465ceb",
   "metadata": {
    "ExecuteTime": {
     "end_time": "2023-06-15T06:02:23.522947Z",
     "start_time": "2023-06-15T06:02:23.493983Z"
    }
   },
   "outputs": [
    {
     "name": "stdout",
     "output_type": "stream",
     "text": [
      "<class 'pandas.core.frame.DataFrame'>\n",
      "RangeIndex: 25 entries, 0 to 24\n",
      "Data columns (total 2 columns):\n",
      " #   Column  Non-Null Count  Dtype  \n",
      "---  ------  --------------  -----  \n",
      " 0   Hours   25 non-null     float64\n",
      " 1   Scores  25 non-null     int64  \n",
      "dtypes: float64(1), int64(1)\n",
      "memory usage: 528.0 bytes\n"
     ]
    }
   ],
   "source": [
    "data.info()"
   ]
  },
  {
   "cell_type": "code",
   "execution_count": 5,
   "id": "7953a5ea",
   "metadata": {
    "ExecuteTime": {
     "end_time": "2023-06-15T06:02:23.555074Z",
     "start_time": "2023-06-15T06:02:23.525898Z"
    }
   },
   "outputs": [
    {
     "data": {
      "text/html": [
       "<div>\n",
       "<style scoped>\n",
       "    .dataframe tbody tr th:only-of-type {\n",
       "        vertical-align: middle;\n",
       "    }\n",
       "\n",
       "    .dataframe tbody tr th {\n",
       "        vertical-align: top;\n",
       "    }\n",
       "\n",
       "    .dataframe thead th {\n",
       "        text-align: right;\n",
       "    }\n",
       "</style>\n",
       "<table border=\"1\" class=\"dataframe\">\n",
       "  <thead>\n",
       "    <tr style=\"text-align: right;\">\n",
       "      <th></th>\n",
       "      <th>Hours</th>\n",
       "      <th>Scores</th>\n",
       "    </tr>\n",
       "  </thead>\n",
       "  <tbody>\n",
       "    <tr>\n",
       "      <th>count</th>\n",
       "      <td>25.000000</td>\n",
       "      <td>25.000000</td>\n",
       "    </tr>\n",
       "    <tr>\n",
       "      <th>mean</th>\n",
       "      <td>5.012000</td>\n",
       "      <td>51.480000</td>\n",
       "    </tr>\n",
       "    <tr>\n",
       "      <th>std</th>\n",
       "      <td>2.525094</td>\n",
       "      <td>25.286887</td>\n",
       "    </tr>\n",
       "    <tr>\n",
       "      <th>min</th>\n",
       "      <td>1.100000</td>\n",
       "      <td>17.000000</td>\n",
       "    </tr>\n",
       "    <tr>\n",
       "      <th>25%</th>\n",
       "      <td>2.700000</td>\n",
       "      <td>30.000000</td>\n",
       "    </tr>\n",
       "    <tr>\n",
       "      <th>50%</th>\n",
       "      <td>4.800000</td>\n",
       "      <td>47.000000</td>\n",
       "    </tr>\n",
       "    <tr>\n",
       "      <th>75%</th>\n",
       "      <td>7.400000</td>\n",
       "      <td>75.000000</td>\n",
       "    </tr>\n",
       "    <tr>\n",
       "      <th>max</th>\n",
       "      <td>9.200000</td>\n",
       "      <td>95.000000</td>\n",
       "    </tr>\n",
       "  </tbody>\n",
       "</table>\n",
       "</div>"
      ],
      "text/plain": [
       "           Hours     Scores\n",
       "count  25.000000  25.000000\n",
       "mean    5.012000  51.480000\n",
       "std     2.525094  25.286887\n",
       "min     1.100000  17.000000\n",
       "25%     2.700000  30.000000\n",
       "50%     4.800000  47.000000\n",
       "75%     7.400000  75.000000\n",
       "max     9.200000  95.000000"
      ]
     },
     "execution_count": 5,
     "metadata": {},
     "output_type": "execute_result"
    }
   ],
   "source": [
    "data.describe()"
   ]
  },
  {
   "cell_type": "code",
   "execution_count": 6,
   "id": "cbdbc5c8",
   "metadata": {
    "ExecuteTime": {
     "end_time": "2023-06-15T06:02:23.743777Z",
     "start_time": "2023-06-15T06:02:23.557075Z"
    }
   },
   "outputs": [
    {
     "data": {
      "image/png": "[encoded data removed]",
      "text/plain": [
       "<Figure size 640x480 with 1 Axes>"
      ]
     },
     "metadata": {},
     "output_type": "display_data"
    }
   ],
   "source": [
    "# Visualizing of data\n",
    "plt.scatter(data.Hours,data.Scores)\n",
    "plt.xlabel('Hours')\n",
    "plt.ylabel('Scores')\n",
    "plt.title('Score VS Hours')\n",
    "plt.show()"
   ]
  },
  {
   "cell_type": "code",
   "execution_count": 7,
   "id": "b18db544",
   "metadata": {
    "ExecuteTime": {
     "end_time": "2023-06-15T06:02:23.759465Z",
     "start_time": "2023-06-15T06:02:23.746773Z"
    }
   },
   "outputs": [],
   "source": [
    "# Feature Columns\n",
    "x=data.drop('Scores',axis='columns').values\n",
    "\n",
    "# Label Columns\n",
    "y=data['Scores'].values"
   ]
  },
  {
   "cell_type": "code",
   "execution_count": 8,
   "id": "bf2b7b0b",
   "metadata": {
    "ExecuteTime": {
     "end_time": "2023-06-15T06:02:24.941220Z",
     "start_time": "2023-06-15T06:02:23.763467Z"
    }
   },
   "outputs": [],
   "source": [
    "# Divide data to train and test data with size of 80% for train and 20% for Testing\n",
    "from sklearn.model_selection import train_test_split\n",
    "x_train,x_test,y_train,y_test=train_test_split(x,y,train_size=0.80,random_state=0)"
   ]
  },
  {
   "cell_type": "code",
   "execution_count": 9,
   "id": "f08202cd",
   "metadata": {
    "ExecuteTime": {
     "end_time": "2023-06-15T06:02:24.956149Z",
     "start_time": "2023-06-15T06:02:24.943183Z"
    },
    "scrolled": true
   },
   "outputs": [
    {
     "data": {
      "text/plain": [
       "array([[3.8],\n",
       "       [1.9],\n",
       "       [7.8],\n",
       "       [6.9],\n",
       "       [1.1],\n",
       "       [5.1],\n",
       "       [7.7],\n",
       "       [3.3],\n",
       "       [8.3],\n",
       "       [9.2],\n",
       "       [6.1],\n",
       "       [3.5],\n",
       "       [2.7],\n",
       "       [5.5],\n",
       "       [2.7],\n",
       "       [8.5],\n",
       "       [2.5],\n",
       "       [4.8],\n",
       "       [8.9],\n",
       "       [4.5]])"
      ]
     },
     "execution_count": 9,
     "metadata": {},
     "output_type": "execute_result"
    }
   ],
   "source": [
    "x_train"
   ]
  },
  {
   "cell_type": "code",
   "execution_count": 10,
   "id": "049faefa",
   "metadata": {
    "ExecuteTime": {
     "end_time": "2023-06-15T06:02:24.987053Z",
     "start_time": "2023-06-15T06:02:24.961135Z"
    }
   },
   "outputs": [
    {
     "data": {
      "text/plain": [
       "array([[1.5],\n",
       "       [3.2],\n",
       "       [7.4],\n",
       "       [2.5],\n",
       "       [5.9]])"
      ]
     },
     "execution_count": 10,
     "metadata": {},
     "output_type": "execute_result"
    }
   ],
   "source": [
    "x_test"
   ]
  },
  {
   "cell_type": "code",
   "execution_count": 11,
   "id": "af1547f0",
   "metadata": {
    "ExecuteTime": {
     "end_time": "2023-06-15T06:02:25.001947Z",
     "start_time": "2023-06-15T06:02:24.988979Z"
    },
    "scrolled": true
   },
   "outputs": [
    {
     "data": {
      "text/plain": [
       "array([35, 24, 86, 76, 17, 47, 85, 42, 81, 88, 67, 30, 25, 60, 30, 75, 21,\n",
       "       54, 95, 41], dtype=int64)"
      ]
     },
     "execution_count": 11,
     "metadata": {},
     "output_type": "execute_result"
    }
   ],
   "source": [
    "y_train"
   ]
  },
  {
   "cell_type": "code",
   "execution_count": 12,
   "id": "230ba43b",
   "metadata": {
    "ExecuteTime": {
     "end_time": "2023-06-15T06:02:25.017902Z",
     "start_time": "2023-06-15T06:02:25.004937Z"
    }
   },
   "outputs": [
    {
     "data": {
      "text/plain": [
       "array([20, 27, 69, 30, 62], dtype=int64)"
      ]
     },
     "execution_count": 12,
     "metadata": {},
     "output_type": "execute_result"
    }
   ],
   "source": [
    "y_test"
   ]
  },
  {
   "cell_type": "code",
   "execution_count": 13,
   "id": "7dc74890",
   "metadata": {
    "ExecuteTime": {
     "end_time": "2023-06-15T06:02:25.126150Z",
     "start_time": "2023-06-15T06:02:25.020896Z"
    }
   },
   "outputs": [
    {
     "data": {
      "text/plain": [
       "LinearRegression()"
      ]
     },
     "execution_count": 13,
     "metadata": {},
     "output_type": "execute_result"
    }
   ],
   "source": [
    "# Modeling\n",
    "from sklearn.linear_model import LinearRegression\n",
    "model=LinearRegression()\n",
    "model.fit(x_train,y_train)"
   ]
  },
  {
   "cell_type": "code",
   "execution_count": 14,
   "id": "1eb86a06",
   "metadata": {
    "ExecuteTime": {
     "end_time": "2023-06-15T06:02:25.142226Z",
     "start_time": "2023-06-15T06:02:25.132142Z"
    }
   },
   "outputs": [
    {
     "data": {
      "text/plain": [
       "0.9515510725211552"
      ]
     },
     "execution_count": 14,
     "metadata": {},
     "output_type": "execute_result"
    }
   ],
   "source": [
    "# Accuracy of training\n",
    "\n",
    "model.score(x_train,y_train)"
   ]
  },
  {
   "cell_type": "code",
   "execution_count": 15,
   "id": "a6568717",
   "metadata": {
    "ExecuteTime": {
     "end_time": "2023-06-15T06:02:25.158134Z",
     "start_time": "2023-06-15T06:02:25.144155Z"
    }
   },
   "outputs": [
    {
     "data": {
      "text/plain": [
       "0.9454906892105356"
      ]
     },
     "execution_count": 15,
     "metadata": {},
     "output_type": "execute_result"
    }
   ],
   "source": [
    "# Accuracy of test\n",
    "model.score(x_test,y_test)"
   ]
  },
  {
   "cell_type": "code",
   "execution_count": 16,
   "id": "dc971f9b",
   "metadata": {
    "ExecuteTime": {
     "end_time": "2023-06-15T06:02:25.174076Z",
     "start_time": "2023-06-15T06:02:25.162108Z"
    }
   },
   "outputs": [
    {
     "data": {
      "text/plain": [
       "array([16.88414476, 33.73226078, 75.357018  , 26.79480124, 60.49103328])"
      ]
     },
     "execution_count": 16,
     "metadata": {},
     "output_type": "execute_result"
    }
   ],
   "source": [
    "y_pred=model.predict(x_test)\n",
    "y_pred"
   ]
  },
  {
   "cell_type": "code",
   "execution_count": 17,
   "id": "79e26242",
   "metadata": {
    "ExecuteTime": {
     "end_time": "2023-06-15T06:02:25.204337Z",
     "start_time": "2023-06-15T06:02:25.179061Z"
    }
   },
   "outputs": [
    {
     "data": {
      "text/html": [
       "<div>\n",
       "<style scoped>\n",
       "    .dataframe tbody tr th:only-of-type {\n",
       "        vertical-align: middle;\n",
       "    }\n",
       "\n",
       "    .dataframe tbody tr th {\n",
       "        vertical-align: top;\n",
       "    }\n",
       "\n",
       "    .dataframe thead th {\n",
       "        text-align: right;\n",
       "    }\n",
       "</style>\n",
       "<table border=\"1\" class=\"dataframe\">\n",
       "  <thead>\n",
       "    <tr style=\"text-align: right;\">\n",
       "      <th></th>\n",
       "      <th>Actual values</th>\n",
       "      <th>Predicted Values</th>\n",
       "    </tr>\n",
       "  </thead>\n",
       "  <tbody>\n",
       "    <tr>\n",
       "      <th>0</th>\n",
       "      <td>20</td>\n",
       "      <td>16.884145</td>\n",
       "    </tr>\n",
       "    <tr>\n",
       "      <th>1</th>\n",
       "      <td>27</td>\n",
       "      <td>33.732261</td>\n",
       "    </tr>\n",
       "    <tr>\n",
       "      <th>2</th>\n",
       "      <td>69</td>\n",
       "      <td>75.357018</td>\n",
       "    </tr>\n",
       "    <tr>\n",
       "      <th>3</th>\n",
       "      <td>30</td>\n",
       "      <td>26.794801</td>\n",
       "    </tr>\n",
       "    <tr>\n",
       "      <th>4</th>\n",
       "      <td>62</td>\n",
       "      <td>60.491033</td>\n",
       "    </tr>\n",
       "  </tbody>\n",
       "</table>\n",
       "</div>"
      ],
      "text/plain": [
       "   Actual values  Predicted Values\n",
       "0             20         16.884145\n",
       "1             27         33.732261\n",
       "2             69         75.357018\n",
       "3             30         26.794801\n",
       "4             62         60.491033"
      ]
     },
     "execution_count": 17,
     "metadata": {},
     "output_type": "execute_result"
    }
   ],
   "source": [
    "pred_vs_actual=pd.DataFrame({'Actual values':y_test,'Predicted Values':y_pred})\n",
    "pred_vs_actual"
   ]
  },
  {
   "cell_type": "code",
   "execution_count": 18,
   "id": "c42fe351",
   "metadata": {
    "ExecuteTime": {
     "end_time": "2023-06-15T06:02:25.361985Z",
     "start_time": "2023-06-15T06:02:25.206325Z"
    },
    "scrolled": false
   },
   "outputs": [
    {
     "data": {
      "image/png": "[encoded data removed]",
      "text/plain": [
       "<Figure size 640x480 with 1 Axes>"
      ]
     },
     "metadata": {},
     "output_type": "display_data"
    }
   ],
   "source": [
    "# Visualizing the data and regression line created by model\n",
    "\n",
    "plt.scatter(x,y)\n",
    "plt.plot(x,model.predict(x),color='red')\n",
    "plt.legend((\"Actual Values\",\"Regression Line\"))\n",
    "plt.xlabel(\"Hours\")\n",
    "plt.ylabel(\"Score\")\n",
    "plt.title(\"The Regression line VS Actual Values\")\n",
    "plt.show()"
   ]
  },
  {
   "cell_type": "code",
   "execution_count": 19,
   "id": "9be19318",
   "metadata": {
    "ExecuteTime": {
     "end_time": "2023-06-15T06:02:25.377946Z",
     "start_time": "2023-06-15T06:02:25.366121Z"
    }
   },
   "outputs": [
    {
     "data": {
      "text/plain": [
       "93.69173248737538"
      ]
     },
     "execution_count": 19,
     "metadata": {},
     "output_type": "execute_result"
    }
   ],
   "source": [
    "# Predicting for studing for 9.25 Hours\n",
    "model.predict([[9.25]])[0]"
   ]
  },
  {
   "cell_type": "code",
   "execution_count": 20,
   "id": "b3cae9f0",
   "metadata": {
    "ExecuteTime": {
     "end_time": "2023-06-15T06:02:27.798632Z",
     "start_time": "2023-06-15T06:02:25.381933Z"
    }
   },
   "outputs": [
    {
     "name": "stdout",
     "output_type": "stream",
     "text": [
      "Please enter the value of studying hours: 8.5\n",
      "While Studying hours is 8.5 hour the score will be 86.2587401268937\n"
     ]
    }
   ],
   "source": [
    "# IF the user want to predict any another value for studing hours\n",
    "no_ofhours=float(input(\"Please enter the value of studying hours: \"))\n",
    "print (f'While Studying hours is {no_ofhours} hour the score will be {model.predict([[no_ofhours]])[0]}')"
   ]
  },
  {
   "cell_type": "code",
   "execution_count": 21,
   "id": "da506751",
   "metadata": {
    "ExecuteTime": {
     "end_time": "2023-06-15T06:02:27.813591Z",
     "start_time": "2023-06-15T06:02:27.800626Z"
    }
   },
   "outputs": [],
   "source": [
    "# Evaluating The Model\n",
    "from sklearn.metrics import mean_absolute_error"
   ]
  },
  {
   "cell_type": "code",
   "execution_count": 22,
   "id": "95f2551b",
   "metadata": {
    "ExecuteTime": {
     "end_time": "2023-06-15T06:02:27.828551Z",
     "start_time": "2023-06-15T06:02:27.816583Z"
    }
   },
   "outputs": [
    {
     "name": "stdout",
     "output_type": "stream",
     "text": [
      "The mean absolute Error is: 4.183859899002975\n"
     ]
    }
   ],
   "source": [
    "print(f'The mean absolute Error is: {mean_absolute_error(y_test, y_pred)}')"
   ]
  }
 ],
 "metadata": {
  "kernelspec": {
   "display_name": "Python 3 (ipykernel)",
   "language": "python",
   "name": "python3"
  },
  "language_info": {
   "codemirror_mode": {
    "name": "ipython",
    "version": 3
   },
   "file_extension": ".py",
   "mimetype": "text/x-python",
   "name": "python",
   "nbconvert_exporter": "python",
   "pygments_lexer": "ipython3",
   "version": "3.9.13"
  }
 },
 "nbformat": 4,
 "nbformat_minor": 5
}
